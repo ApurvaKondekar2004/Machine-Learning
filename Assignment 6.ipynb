{
 "cells": [
  {
   "cell_type": "code",
   "execution_count": 1,
   "id": "c23140d6-1aba-4742-be14-b583625bf960",
   "metadata": {},
   "outputs": [
    {
     "name": "stdout",
     "output_type": "stream",
     "text": [
      "Defaulting to user installation because normal site-packages is not writeableNote: you may need to restart the kernel to use updated packages.\n",
      "\n",
      "Requirement already satisfied: pandas in c:\\programdata\\anaconda3\\lib\\site-packages (2.1.4)\n",
      "Collecting mlxtend\n",
      "  Downloading mlxtend-0.23.4-py3-none-any.whl.metadata (7.3 kB)\n",
      "Requirement already satisfied: numpy<2,>=1.23.2 in c:\\programdata\\anaconda3\\lib\\site-packages (from pandas) (1.26.4)\n",
      "Requirement already satisfied: python-dateutil>=2.8.2 in c:\\programdata\\anaconda3\\lib\\site-packages (from pandas) (2.8.2)\n",
      "Requirement already satisfied: pytz>=2020.1 in c:\\programdata\\anaconda3\\lib\\site-packages (from pandas) (2023.3.post1)\n",
      "Requirement already satisfied: tzdata>=2022.1 in c:\\programdata\\anaconda3\\lib\\site-packages (from pandas) (2023.3)\n",
      "Requirement already satisfied: scipy>=1.2.1 in c:\\programdata\\anaconda3\\lib\\site-packages (from mlxtend) (1.11.4)\n",
      "Collecting scikit-learn>=1.3.1 (from mlxtend)\n",
      "  Downloading scikit_learn-1.6.1-cp311-cp311-win_amd64.whl.metadata (15 kB)\n",
      "Requirement already satisfied: matplotlib>=3.0.0 in c:\\programdata\\anaconda3\\lib\\site-packages (from mlxtend) (3.8.0)\n",
      "Requirement already satisfied: joblib>=0.13.2 in c:\\programdata\\anaconda3\\lib\\site-packages (from mlxtend) (1.2.0)\n",
      "Requirement already satisfied: contourpy>=1.0.1 in c:\\programdata\\anaconda3\\lib\\site-packages (from matplotlib>=3.0.0->mlxtend) (1.2.0)\n",
      "Requirement already satisfied: cycler>=0.10 in c:\\programdata\\anaconda3\\lib\\site-packages (from matplotlib>=3.0.0->mlxtend) (0.11.0)\n",
      "Requirement already satisfied: fonttools>=4.22.0 in c:\\programdata\\anaconda3\\lib\\site-packages (from matplotlib>=3.0.0->mlxtend) (4.25.0)\n",
      "Requirement already satisfied: kiwisolver>=1.0.1 in c:\\programdata\\anaconda3\\lib\\site-packages (from matplotlib>=3.0.0->mlxtend) (1.4.4)\n",
      "Requirement already satisfied: packaging>=20.0 in c:\\programdata\\anaconda3\\lib\\site-packages (from matplotlib>=3.0.0->mlxtend) (23.1)\n",
      "Requirement already satisfied: pillow>=6.2.0 in c:\\programdata\\anaconda3\\lib\\site-packages (from matplotlib>=3.0.0->mlxtend) (10.2.0)\n",
      "Requirement already satisfied: pyparsing>=2.3.1 in c:\\programdata\\anaconda3\\lib\\site-packages (from matplotlib>=3.0.0->mlxtend) (3.0.9)\n",
      "Requirement already satisfied: six>=1.5 in c:\\programdata\\anaconda3\\lib\\site-packages (from python-dateutil>=2.8.2->pandas) (1.16.0)\n",
      "Collecting threadpoolctl>=3.1.0 (from scikit-learn>=1.3.1->mlxtend)\n",
      "  Using cached threadpoolctl-3.6.0-py3-none-any.whl.metadata (13 kB)\n",
      "Downloading mlxtend-0.23.4-py3-none-any.whl (1.4 MB)\n",
      "   ---------------------------------------- 0.0/1.4 MB ? eta -:--:--\n",
      "   -------------- ------------------------- 0.5/1.4 MB 15.9 MB/s eta 0:00:01\n",
      "   ------------------------ --------------- 0.8/1.4 MB 8.6 MB/s eta 0:00:01\n",
      "   ---------------------------------------- 1.4/1.4 MB 12.3 MB/s eta 0:00:00\n",
      "Downloading scikit_learn-1.6.1-cp311-cp311-win_amd64.whl (11.1 MB)\n",
      "   ---------------------------------------- 0.0/11.1 MB ? eta -:--:--\n",
      "   ------- -------------------------------- 2.0/11.1 MB 124.8 MB/s eta 0:00:01\n",
      "   ------------------ --------------------- 5.0/11.1 MB 63.8 MB/s eta 0:00:01\n",
      "   --------------------- ------------------ 5.9/11.1 MB 53.3 MB/s eta 0:00:01\n",
      "   ------------------------ --------------- 6.8/11.1 MB 39.5 MB/s eta 0:00:01\n",
      "   ---------------------------- ----------- 7.9/11.1 MB 36.2 MB/s eta 0:00:01\n",
      "   --------------------------------- ------ 9.2/11.1 MB 34.6 MB/s eta 0:00:01\n",
      "   -------------------------------------- - 10.6/11.1 MB 32.7 MB/s eta 0:00:01\n",
      "   ---------------------------------------- 11.1/11.1 MB 29.7 MB/s eta 0:00:00\n",
      "Using cached threadpoolctl-3.6.0-py3-none-any.whl (18 kB)\n",
      "Installing collected packages: threadpoolctl, scikit-learn, mlxtend\n",
      "Successfully installed mlxtend-0.23.4 scikit-learn-1.6.1 threadpoolctl-3.6.0\n"
     ]
    }
   ],
   "source": [
    "pip install pandas mlxtend"
   ]
  },
  {
   "cell_type": "code",
   "execution_count": 2,
   "id": "7ddd9bc2-7ffe-4144-8f22-6e795ae078a2",
   "metadata": {},
   "outputs": [],
   "source": [
    "import pandas as pd\n",
    "from mlxtend.preprocessing import TransactionEncoder\n",
    "from mlxtend.frequent_patterns import apriori, association_rules"
   ]
  },
  {
   "cell_type": "code",
   "execution_count": 3,
   "id": "54ceae08-b785-4608-82d6-be512907dcc3",
   "metadata": {},
   "outputs": [],
   "source": [
    "dataset = [\n",
    "    ['Milk', 'Bread', 'Butter'],\n",
    "    ['Bread', 'Butter', 'Beer'],\n",
    "    ['Milk', 'Bread', 'Butter', 'Beer'],\n",
    "    ['Milk', 'Bread'],\n",
    "    ['Bread', 'Butter']\n",
    "]"
   ]
  },
  {
   "cell_type": "code",
   "execution_count": 4,
   "id": "0b46b2a1-ed2e-4f38-9870-d30a8db62a41",
   "metadata": {},
   "outputs": [],
   "source": [
    "te = TransactionEncoder()\n",
    "te_ary = te.fit(dataset).transform(dataset)\n",
    "df = pd.DataFrame(te_ary, columns=te.columns_)"
   ]
  },
  {
   "cell_type": "code",
   "execution_count": 5,
   "id": "ef5d957c-700a-4ce1-a003-97591a116f53",
   "metadata": {},
   "outputs": [
    {
     "name": "stdout",
     "output_type": "stream",
     "text": [
      "Transaction DataFrame:\n",
      "\n",
      "    Beer  Bread  Butter   Milk\n",
      "0  False   True    True   True\n",
      "1   True   True    True  False\n",
      "2   True   True    True   True\n",
      "3  False   True   False   True\n",
      "4  False   True    True  False\n"
     ]
    }
   ],
   "source": [
    "print(\"Transaction DataFrame:\\n\")\n",
    "print(df)"
   ]
  },
  {
   "cell_type": "markdown",
   "id": "531c879d-9fdc-4761-8ef9-db1b72dbfbf5",
   "metadata": {},
   "source": [
    "Apply Apriori Algorithm to find Frequent Itemsets"
   ]
  },
  {
   "cell_type": "code",
   "execution_count": 6,
   "id": "f2f41a19-44b9-4f5c-bf3e-2b2529560860",
   "metadata": {},
   "outputs": [
    {
     "name": "stdout",
     "output_type": "stream",
     "text": [
      "\n",
      "Frequent Itemsets:\n",
      "\n",
      "   support         itemsets\n",
      "0      1.0          (Bread)\n",
      "1      0.8         (Butter)\n",
      "2      0.6           (Milk)\n",
      "3      0.8  (Bread, Butter)\n",
      "4      0.6    (Bread, Milk)\n"
     ]
    }
   ],
   "source": [
    "frequent_itemsets = apriori(df, min_support=0.6, use_colnames=True)\n",
    "\n",
    "print(\"\\nFrequent Itemsets:\\n\")\n",
    "print(frequent_itemsets)"
   ]
  },
  {
   "cell_type": "markdown",
   "id": "626925fb-3343-4ca0-9ecd-23cb71dd2328",
   "metadata": {},
   "source": [
    "Generate Association Rules"
   ]
  },
  {
   "cell_type": "code",
   "execution_count": 7,
   "id": "10172c96-9eba-4d24-bcc1-783d4e456d14",
   "metadata": {},
   "outputs": [
    {
     "name": "stdout",
     "output_type": "stream",
     "text": [
      "\n",
      "Association Rules:\n",
      "\n",
      "  antecedents consequents  support  confidence  lift\n",
      "0     (Bread)    (Butter)      0.8         0.8   1.0\n",
      "1    (Butter)     (Bread)      0.8         1.0   1.0\n",
      "2      (Milk)     (Bread)      0.6         1.0   1.0\n"
     ]
    },
    {
     "name": "stderr",
     "output_type": "stream",
     "text": [
      "C:\\Users\\Apurva\\AppData\\Roaming\\Python\\Python311\\site-packages\\mlxtend\\frequent_patterns\\association_rules.py:186: RuntimeWarning: invalid value encountered in divide\n",
      "  cert_metric = np.where(certainty_denom == 0, 0, certainty_num / certainty_denom)\n"
     ]
    }
   ],
   "source": [
    "rules = association_rules(frequent_itemsets, metric=\"confidence\", min_threshold=0.7)\n",
    "\n",
    "print(\"\\nAssociation Rules:\\n\")\n",
    "print(rules[['antecedents', 'consequents', 'support', 'confidence', 'lift']])"
   ]
  },
  {
   "cell_type": "markdown",
   "id": "104d1e46-f20f-437e-adf5-296d4f9a771a",
   "metadata": {},
   "source": [
    "Strong Association Rules like:\n",
    "1.If Butter is bought → Bread is also bought (100% confidence).\n",
    "\n",
    "2.If Milk is bought → Bread is also bought (100% confidence)."
   ]
  },
  {
   "cell_type": "code",
   "execution_count": null,
   "id": "9e104edc-0fb0-4165-9527-ae4ddc0fff3f",
   "metadata": {},
   "outputs": [],
   "source": []
  }
 ],
 "metadata": {
  "kernelspec": {
   "display_name": "Python 3 (ipykernel)",
   "language": "python",
   "name": "python3"
  },
  "language_info": {
   "codemirror_mode": {
    "name": "ipython",
    "version": 3
   },
   "file_extension": ".py",
   "mimetype": "text/x-python",
   "name": "python",
   "nbconvert_exporter": "python",
   "pygments_lexer": "ipython3",
   "version": "3.11.7"
  }
 },
 "nbformat": 4,
 "nbformat_minor": 5
}
